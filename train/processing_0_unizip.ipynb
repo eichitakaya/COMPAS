{
 "cells": [
  {
   "cell_type": "code",
   "execution_count": 5,
   "metadata": {},
   "outputs": [],
   "source": [
    "import zipfile\n",
    "import os"
   ]
  },
  {
   "cell_type": "code",
   "execution_count": 6,
   "metadata": {},
   "outputs": [
    {
     "name": "stdout",
     "output_type": "stream",
     "text": [
      "['7048.zip', '7060.zip', '7074.zip', '7128.zip', '7114.zip', '7100.zip', '1029.zip', '1001.zip', '1015.zip', '1028.zip', '7101.zip', '7115.zip', '7129.zip', '7075.zip', '7061.zip', '7049.zip', '7077.zip', '7063.zip', '7088.zip', '7103.zip', '7117.zip', '1016.zip', '1002.zip', '1003.zip', '1017.zip', '7116.zip', '7102.zip', '7089.zip', '7062.zip', '7076.zip', '7072.zip', '7153_1.zip', '7066.zip', '7099.zip', '7106.zip', '7112.zip', '1013.zip', '1007.zip', '1006.zip', '1012.zip', '7113.zip', '7107.zip', '7098.zip', '7067.zip', '7073.zip', '7065.zip', '7071.zip', '7059.zip', '7111.zip', '7105.zip', '7139.zip', '1004.zip', '1010.zip', '1038.zip', '1039.zip', '1011.zip', '1005.zip', '7138.zip', '7104.zip', '7110.zip', '7058.zip', '7070.zip', '7064.zip', '7003.zip', '7017.zip', '7163.zip', '7162.zip', '7016.zip', '7002.zip', '7028.zip', '7014.zip', '7148.zip', '7160.zip', '1049.zip', '1048.zip', '7161.zip', '7149.zip', '7001.zip', '7015.zip', '7029.zip', '7011.zip', '7005.zip', '7039.zip', '7165.zip', '7164.zip', '7038.zip', '7004.zip', '7010.zip', '7006.zip', '7012.zip', '7166.zip', '7167.zip', '7013.zip', '7007.zip', '7022.zip', '7036.zip', '7142.zip', '1043.zip', '1057.zip', '1056.zip', '7143.zip', '7157.zip', '7037.zip', '7023.zip', '7009.zip', '7035.zip', '7021.zip', '7141.zip', '1054.zip', '1040.zip', '1041.zip', '1055.zip', '7154.zip', '7140.zip', '7168.zip', '7020.zip', '7034.zip', '7008.zip', '7030.zip', '7024.zip', '7018.zip', '7144.zip', '7150.zip', '7119_4.zip', '1051.zip', '1045.zip', '1044.zip', '1050.zip', '7145.zip', '7019.zip', '7025.zip', '7031.zip', '7027.zip', '7033.zip', '7153.zip', '7147.zip', '1046.zip', '1052.zip', '1053.zip', '1047.zip', '7146.zip', '7152.zip', '7032.zip', '7026.zip', '7069.zip', '7041.zip', '7055.zip', '7082.zip', '7096.zip', '7109.zip', '7135.zip', '7121.zip', '1008.zip', '1020.zip', '1034.zip', '1035.zip', '1021.zip', '1009.zip', '7120.zip', '7134.zip', '7108.zip', '7097.zip', '7083.zip', '7054.zip', '7040.zip', '7068.zip', '7056.zip', '7042.zip', '7095.zip', '7081.zip', '7122.zip', '7136.zip', '1037.zip', '1023.zip', '1022.zip', '1036.zip', '7137.zip', '7123.zip', '7080.zip', '7094.zip', '7043.zip', '7057.zip', '7053.zip', '7047.zip', '7090.zip', '7084.zip', '7127.zip', '7133.zip', '1032.zip', '1026.zip', '1027.zip', '1033.zip', '7132.zip', '7126.zip', '7085.zip', '7091.zip', '7046.zip', '7052.zip', '7044.zip', '7050.zip', '7078.zip', '7087.zip', '7093.zip', '7130.zip', '7124.zip', '7118.zip', '1025.zip', '1031.zip', '1019.zip', '1018.zip', '1030.zip', '1024.zip', '7119.zip', '7125.zip', '7131.zip', '7092.zip', '7086.zip', '7079.zip', '7051.zip', '7045.zip']\n"
     ]
    }
   ],
   "source": [
    "def list_zip_files(directory):\n",
    "    return [f for f in os.listdir(directory) if f.endswith('.zip')]\n",
    "\n",
    "directory_path = '../dataset20231024'  # ここにディレクトリのパスを指定します。'.' は現在のディレクトリを指します。\n",
    "zip_files = list_zip_files(directory_path)\n",
    "print(zip_files)"
   ]
  },
  {
   "cell_type": "code",
   "execution_count": 7,
   "metadata": {},
   "outputs": [],
   "source": [
    "def unzip_file(zip_filepath, dest_dir):\n",
    "    with zipfile.ZipFile(zip_filepath, 'r') as zip_ref:\n",
    "        zip_ref.extractall(dest_dir)"
   ]
  },
  {
   "cell_type": "code",
   "execution_count": 8,
   "metadata": {},
   "outputs": [
    {
     "name": "stdout",
     "output_type": "stream",
     "text": [
      "_?\n",
      "_?\n",
      ".z\n",
      ".z\n"
     ]
    }
   ],
   "source": [
    "for n in range(len(zip_files)):\n",
    "    if (int(zip_files[n][0:4]) == 7119)|(int(zip_files[n][0:4]) == 7153):\n",
    "        if (zip_files[n][5:6] == \"z\"):\n",
    "            unzip_file('../dataset20231024/'+zip_files[n], 'Data_unzip/case'+zip_files[n][0:4])\n",
    "            print(\".z\")\n",
    "        else:\n",
    "            unzip_file('../dataset20231024/'+zip_files[n], 'Data_unzip/case'+zip_files[n][0:6])\n",
    "            print(\"_?\")\n",
    "    else: unzip_file('../dataset20231024/'+zip_files[n], 'Data_unzip/case'+zip_files[n][0:4])"
   ]
  },
  {
   "cell_type": "code",
   "execution_count": null,
   "metadata": {},
   "outputs": [],
   "source": []
  }
 ],
 "metadata": {
  "kernelspec": {
   "display_name": "Python 3",
   "language": "python",
   "name": "python3"
  },
  "language_info": {
   "codemirror_mode": {
    "name": "ipython",
    "version": 3
   },
   "file_extension": ".py",
   "mimetype": "text/x-python",
   "name": "python",
   "nbconvert_exporter": "python",
   "pygments_lexer": "ipython3",
   "version": "3.7.3"
  }
 },
 "nbformat": 4,
 "nbformat_minor": 4
}
