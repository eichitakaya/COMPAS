{
 "cells": [
  {
   "cell_type": "code",
   "execution_count": 32,
   "metadata": {},
   "outputs": [
    {
     "name": "stdout",
     "output_type": "stream",
     "text": [
      "['case7048', 'case7060', 'case7074', 'case7128', 'case7114', 'case7100', 'case1029', 'case1001', 'case1015', 'case1028', 'case7101', 'case7115', 'case7129', 'case7075', 'case7061', 'case7049', 'case7077', 'case7063', 'case7088', 'case7103', 'case7117', 'case1016', 'case1002', 'case1003', 'case1017', 'case7116', 'case7102', 'case7089', 'case7062', 'case7076', 'case7072', 'case7153_1', 'case7066', 'case7099', 'case7106', 'case7112', 'case1013', 'case1007', 'case1006', 'case1012', 'case7113', 'case7107', 'case7098', 'case7067', 'case7073', 'case7065', 'case7071', 'case7059', 'case7111', 'case7105', 'case7139', 'case1004', 'case1010', 'case1038', 'case1039', 'case1011', 'case1005', 'case7138', 'case7104', 'case7110', 'case7058', 'case7070', 'case7064', 'case7003', 'case7017', 'case7163', 'case7162', 'case7016', 'case7002', 'case7028', 'case7014', 'case7148', 'case7160', 'case1049', 'case1048', 'case7161', 'case7149', 'case7001', 'case7015', 'case7029', 'case7011', 'case7005', 'case7039', 'case7165', 'case7164', 'case7038', 'case7004', 'case7010', 'case7006', 'case7012', 'case7166', 'case7167', 'case7013', 'case7007', 'case7022', 'case7036', 'case7142', 'case1043', 'case1057', 'case1056', 'case7143', 'case7157', 'case7037', 'case7023', 'case7009', 'case7035', 'case7021', 'case7141', 'case1054', 'case1040', 'case1041', 'case1055', 'case7154', 'case7140', 'case7168', 'case7020', 'case7034', 'case7008', 'case7030', 'case7024', 'case7018', 'case7144', 'case7150', 'case7119_4', 'case1051', 'case1045', 'case1044', 'case1050', 'case7145', 'case7019', 'case7025', 'case7031', 'case7027', 'case7033', 'case7153', 'case7147', 'case1046', 'case1052', 'case1053', 'case1047', 'case7146', 'case7152', 'case7032', 'case7026', 'case7069', 'case7041', 'case7055', 'case7082', 'case7096', 'case7109', 'case7135', 'case7121', 'case1008', 'case1020', 'case1034', 'case1035', 'case1021', 'case1009', 'case7120', 'case7134', 'case7108', 'case7097', 'case7083', 'case7054', 'case7040', 'case7068', 'case7056', 'case7042', 'case7095', 'case7081', 'case7122', 'case7136', 'case1037', 'case1023', 'case1022', 'case1036', 'case7137', 'case7123', 'case7080', 'case7094', 'case7043', 'case7057', 'case7053', 'case7047', 'case7090', 'case7084', 'case7127', 'case7133', 'case1032', 'case1026', 'case1027', 'case1033', 'case7132', 'case7126', 'case7085', 'case7091', 'case7046', 'case7052', 'case7044', 'case7050', 'case7078', 'case7087', 'case7093', 'case7130', 'case7124', 'case7118', 'case1025', 'case1031', 'case1019', 'case1018', 'case1030', 'case1024', 'case7119', 'case7125', 'case7131', 'case7092', 'case7086', 'case7079', 'case7051', 'case7045']\n"
     ]
    }
   ],
   "source": [
    "import os\n",
    "import shutil\n",
    "def list_folders(directory):\n",
    "    return [d for d in os.listdir(directory) if os.path.isdir(os.path.join(directory, d))]\n",
    "\n",
    "directory_path = 'Data_unzip'\n",
    "folders = list_folders(directory_path)\n",
    "print(folders)"
   ]
  },
  {
   "cell_type": "code",
   "execution_count": 33,
   "metadata": {},
   "outputs": [],
   "source": [
    "for n in range(len(folders)):\n",
    "    tmp1 = list_folders('Data_unzip/'+folders[n])\n",
    "    if len(tmp1) != 1: print(\"error\")\n",
    "\n",
    "    tmp2 = list_folders('Data_unzip/'+folders[n]+'/'+tmp1[0])\n",
    "    if len(tmp2) != 1: print(\"error\")\n",
    "\n",
    "    tmp3 = list_folders('Data_unzip/'+folders[n]+'/'+tmp1[0]+'/'+tmp2[0])\n",
    "\n",
    "    for n2 in range(len(tmp3)):\n",
    "        old_folder = 'Data_unzip/'+folders[n]+'/'+tmp1[0]+'/'+tmp2[0]+'/'+tmp3[n2]\n",
    "        new_folder = 'Data_unzip/'+folders[n]\n",
    "        shutil.move(old_folder,new_folder)\n",
    "    shutil.rmtree('Data_unzip/'+folders[n]+'/'+tmp1[0])"
   ]
  },
  {
   "cell_type": "code",
   "execution_count": null,
   "metadata": {},
   "outputs": [],
   "source": []
  },
  {
   "cell_type": "code",
   "execution_count": null,
   "metadata": {},
   "outputs": [],
   "source": []
  }
 ],
 "metadata": {
  "kernelspec": {
   "display_name": "Python 3",
   "language": "python",
   "name": "python3"
  },
  "language_info": {
   "codemirror_mode": {
    "name": "ipython",
    "version": 3
   },
   "file_extension": ".py",
   "mimetype": "text/x-python",
   "name": "python",
   "nbconvert_exporter": "python",
   "pygments_lexer": "ipython3",
   "version": "3.7.3"
  }
 },
 "nbformat": 4,
 "nbformat_minor": 4
}
