{
 "cells": [
  {
   "cell_type": "markdown",
   "metadata": {},
   "source": [
    "# 7119に対する対応"
   ]
  },
  {
   "cell_type": "code",
   "execution_count": 32,
   "metadata": {},
   "outputs": [],
   "source": [
    "import shutil\n",
    "shutil.rmtree('Data_unzip/case7119/1.2.392.200036.9142.10002202.1020330993.3.20160208142008.14795')\n",
    "\n",
    "old_folder = 'Data_unzip/case7119_4/1.2.392.200036.9142.10002202.1020330993.3.20160208142008.14795'\n",
    "new_folder = 'Data_unzip/case7119/1.2.392.200036.9142.10002202.1020330993.3.20160208142008.14795'\n",
    "shutil.move(old_folder,new_folder)\n",
    "\n",
    "shutil.rmtree('Data_unzip/case7119_4')"
   ]
  },
  {
   "cell_type": "markdown",
   "metadata": {},
   "source": [
    "# 7153に対する対応"
   ]
  },
  {
   "cell_type": "markdown",
   "metadata": {},
   "source": [
    "## 既存のcase7153_1は不要"
   ]
  },
  {
   "cell_type": "code",
   "execution_count": 33,
   "metadata": {},
   "outputs": [],
   "source": [
    "shutil.rmtree('Data_unzip/case7153_1')"
   ]
  },
  {
   "cell_type": "markdown",
   "metadata": {},
   "source": [
    "## 既存のjson fileも不要"
   ]
  },
  {
   "cell_type": "code",
   "execution_count": 34,
   "metadata": {},
   "outputs": [],
   "source": [
    "import os\n",
    "os.remove('Data_unzip/case7153/1.2.392.200036.9142.10002202.1020330994.3.20111202162010.49103/AnnotationFile.Json')"
   ]
  },
  {
   "cell_type": "code",
   "execution_count": 35,
   "metadata": {},
   "outputs": [
    {
     "name": "stdout",
     "output_type": "stream",
     "text": [
      "36 36\n"
     ]
    }
   ],
   "source": [
    "all_points_x = [121,118,112,104,97,89,82,73,67,62,59,55,52,50,50,49,51,54,58,64,68,71,73,74,75,75,76,78,81,85,92,101,110,114,117,122]\n",
    "all_points_y = [189,192,191,191,193,190,188,183,178,173,167,157,144,134,122,109,102,99,99,101,104,109,117,125,132,140,147,155,160,168,172,178,182,186,187,189]\n",
    "\n",
    "# check\n",
    "print(len(all_points_x), len(all_points_y))"
   ]
  },
  {
   "cell_type": "code",
   "execution_count": 36,
   "metadata": {},
   "outputs": [
    {
     "name": "stdout",
     "output_type": "stream",
     "text": [
      "[[[121, 189], [118, 192], [112, 191], [104, 191], [97, 193], [89, 190], [82, 188], [73, 183], [67, 178], [62, 173], [59, 167], [55, 157], [52, 144], [50, 134], [50, 122], [49, 109], [51, 102], [54, 99], [58, 99], [64, 101], [68, 104], [71, 109], [73, 117], [74, 125], [75, 132], [75, 140], [76, 147], [78, 155], [81, 160], [85, 168], [92, 172], [101, 178], [110, 182], [114, 186], [117, 187], [122, 189]]]\n"
     ]
    }
   ],
   "source": [
    "CCC_ground_truth = 1\n",
    "simplified_data = [[]]\n",
    "for n in range(len(all_points_x)):\n",
    "    simplified_data[0].append([all_points_x[n], all_points_y[n]])\n",
    "print(simplified_data)"
   ]
  },
  {
   "cell_type": "code",
   "execution_count": 37,
   "metadata": {},
   "outputs": [],
   "source": [
    "import pickle\n",
    "with open('Data_unzip/case7153/1.2.392.200036.9142.10002202.1020330994.3.20111202162010.49103/AnnotationFile.pkl', 'wb') as f:\n",
    "    pickle.dump(simplified_data, f)"
   ]
  },
  {
   "cell_type": "code",
   "execution_count": null,
   "metadata": {},
   "outputs": [],
   "source": []
  }
 ],
 "metadata": {
  "kernelspec": {
   "display_name": "Python 3",
   "language": "python",
   "name": "python3"
  },
  "language_info": {
   "codemirror_mode": {
    "name": "ipython",
    "version": 3
   },
   "file_extension": ".py",
   "mimetype": "text/x-python",
   "name": "python",
   "nbconvert_exporter": "python",
   "pygments_lexer": "ipython3",
   "version": "3.7.3"
  }
 },
 "nbformat": 4,
 "nbformat_minor": 4
}
