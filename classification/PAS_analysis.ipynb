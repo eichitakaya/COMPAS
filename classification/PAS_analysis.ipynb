{
 "cells": [
  {
   "cell_type": "code",
   "execution_count": 3,
   "metadata": {},
   "outputs": [],
   "source": [
    "# 必要なライブラリ\n",
    "import pandas as pd\n",
    "import numpy as np\n",
    "\n",
    "from sklearn.model_selection import StratifiedKFold\n",
    "from sklearn.model_selection import cross_val_predict\n",
    "\n",
    "from sklearn.metrics import confusion_matrix\n",
    "\n",
    "from sklearn.linear_model import LogisticRegression\n",
    "from sklearn.ensemble import RandomForestClassifier\n",
    "\n",
    "import xgboost as xgb\n",
    "import lightgbm as lgb\n",
    "\n",
    "from sklearn.metrics import roc_curve, roc_auc_score"
   ]
  },
  {
   "cell_type": "code",
   "execution_count": 4,
   "metadata": {},
   "outputs": [],
   "source": [
    "# データの読み込み\n",
    "df = pd.read_csv(\"dataset/PAS_table.csv\")\n",
    "\n",
    "# 予めシャッフルしておく\n",
    "df = df.sample(frac=1)\n",
    "df = df.reset_index()"
   ]
  },
  {
   "cell_type": "code",
   "execution_count": 6,
   "metadata": {},
   "outputs": [],
   "source": [
    "df = df.drop(\"index\", axis=1)"
   ]
  },
  {
   "cell_type": "code",
   "execution_count": 8,
   "metadata": {},
   "outputs": [],
   "source": [
    "#df_id = df[\"ID\"]\n",
    "X = np.array(df.drop([\"PAS\", \"Week\"], axis=1))\n",
    "t = np.array(df[\"PAS\"])"
   ]
  },
  {
   "cell_type": "code",
   "execution_count": 20,
   "metadata": {},
   "outputs": [
    {
     "name": "stdout",
     "output_type": "stream",
     "text": [
      "Accuracy: 0.8232558139534883 \n",
      "Sensitivity: 0.6181818181818182 \n",
      "Specificity: 0.89375 \n",
      "AUC: 0.8778409090909091\n"
     ]
    },
    {
     "data": {
      "text/plain": [
       "<Figure size 432x288 with 0 Axes>"
      ]
     },
     "metadata": {},
     "output_type": "display_data"
    },
    {
     "data": {
      "text/plain": [
       "<Figure size 432x288 with 0 Axes>"
      ]
     },
     "metadata": {},
     "output_type": "display_data"
    },
    {
     "data": {
      "text/plain": [
       "<Figure size 432x288 with 0 Axes>"
      ]
     },
     "metadata": {},
     "output_type": "display_data"
    },
    {
     "data": {
      "text/plain": [
       "<Figure size 432x288 with 0 Axes>"
      ]
     },
     "metadata": {},
     "output_type": "display_data"
    },
    {
     "data": {
      "text/plain": [
       "<Figure size 432x288 with 0 Axes>"
      ]
     },
     "metadata": {},
     "output_type": "display_data"
    }
   ],
   "source": [
    "import matplotlib.pyplot as plt\n",
    "\n",
    "# クラスの割合が一定になるように5分割\n",
    "skf = StratifiedKFold(n_splits=5, shuffle=True)\n",
    "\n",
    "tp = []\n",
    "tn = []\n",
    "fp = []\n",
    "fn = []\n",
    "\n",
    "coefs = []\n",
    "\n",
    "for i, (train_index, test_index) in enumerate(skf.split(X, t)):\n",
    "    ids = X[:, 0]\n",
    "    train_X = np.delete(X, 0, axis=1)  \n",
    "    \n",
    "    #model = LogisticRegression()\n",
    "    #model = RandomForestClassifier()\n",
    "    model = lgb.LGBMClassifier()\n",
    "\n",
    "    \n",
    "    model.fit(train_X[train_index], t[train_index])\n",
    "    y_pred = model.predict(train_X[test_index])\n",
    "    \n",
    "    fpr, tpr, thresholds = roc_curve(t[test_index], y_pred)\n",
    "    auc = roc_auc_score(t[test_index], y_pred)\n",
    "    plt.figure()\n",
    "    plt.plot(fpr, tpr, label=\"ROC (AUC=\" + str(round(auc, 4)) + \")\" )\n",
    "    plt.xlabel(\"False positive rate\")\n",
    "    plt.ylabel(\"True positive rate\")\n",
    "    plt.legend()\n",
    "    plt.savefig(\"result/clinical_feature_ROC_\" + str(i+1) + \".png\")\n",
    "    plt.clf()\n",
    "\n",
    "    \n",
    "    #coefs.append(model.coef_)\n",
    "    \n",
    "    kth_test_ids = ids[test_index]\n",
    "    \n",
    "    for i in range(len(y_pred)):\n",
    "        if y_pred[i] == 1 and t[test_index][i] == 1:\n",
    "            tp.append(kth_test_ids[i])\n",
    "        elif y_pred[i] == 1 and t[test_index][i] == 0:\n",
    "            fp.append(kth_test_ids[i])\n",
    "        elif y_pred[i] == 0 and t[test_index][i] == 0:\n",
    "            tn.append(kth_test_ids[i])\n",
    "        else:\n",
    "            fn.append(kth_test_ids[i])\n",
    "\n",
    "acc = (len(tp) + len(tn)) / (len(tp) + len(tn) + len(fp) + len(fn))\n",
    "sen = len(tp) / (len(fn) + len(tp))\n",
    "spec = len(tn) / (len(fp) + len(tn)) \n",
    "\n",
    "print(\"Accuracy: {} \\nSensitivity: {} \\nSpecificity: {} \\nAUC: {}\".format(acc, sen, spec, auc))"
   ]
  },
  {
   "cell_type": "code",
   "execution_count": 150,
   "metadata": {},
   "outputs": [
    {
     "data": {
      "text/plain": [
       "[array([[-0.03980314, -0.12427195,  0.36278391,  0.40301693,  2.47052321,\n",
       "          0.26184445]]),\n",
       " array([[-0.03086225,  0.01346169,  0.29046752,  0.42621771,  2.65822672,\n",
       "          0.37934514]]),\n",
       " array([[-4.20210809e-02,  4.72193431e-02,  2.17647994e-01,\n",
       "          4.89439831e-01,  3.07496187e+00,  1.22440768e-03]]),\n",
       " array([[-0.03228012,  0.06196481,  0.05640474,  0.72463738,  2.69403282,\n",
       "          0.31449853]]),\n",
       " array([[-0.01920085,  0.05264623,  0.0847624 ,  0.53412299,  2.66339469,\n",
       "          0.38636527]])]"
      ]
     },
     "execution_count": 150,
     "metadata": {},
     "output_type": "execute_result"
    }
   ],
   "source": [
    "coefs"
   ]
  },
  {
   "cell_type": "code",
   "execution_count": 12,
   "metadata": {},
   "outputs": [
    {
     "data": {
      "text/plain": [
       "array([1, 0, 1, 1, 0, 0, 0, 0, 0, 1, 1, 1, 0, 0, 0, 0, 0, 1, 0, 0, 0, 0,\n",
       "       0, 0, 0, 0, 0, 0, 0, 0, 0, 0, 1, 1, 0, 0, 1, 0, 1, 0, 0, 0, 0])"
      ]
     },
     "execution_count": 12,
     "metadata": {},
     "output_type": "execute_result"
    }
   ],
   "source": [
    "t[test_index]"
   ]
  },
  {
   "cell_type": "code",
   "execution_count": 2,
   "metadata": {},
   "outputs": [
    {
     "ename": "NameError",
     "evalue": "name 'train_X' is not defined",
     "output_type": "error",
     "traceback": [
      "\u001b[0;31m---------------------------------------------------------------------------\u001b[0m",
      "\u001b[0;31mNameError\u001b[0m                                 Traceback (most recent call last)",
      "\u001b[0;32m<ipython-input-2-ee25ef03c42c>\u001b[0m in \u001b[0;36m<module>\u001b[0;34m\u001b[0m\n\u001b[0;32m----> 1\u001b[0;31m \u001b[0mtrain_X\u001b[0m\u001b[0;34m\u001b[0m\u001b[0;34m\u001b[0m\u001b[0m\n\u001b[0m",
      "\u001b[0;31mNameError\u001b[0m: name 'train_X' is not defined"
     ]
    }
   ],
   "source": [
    "train_X"
   ]
  },
  {
   "cell_type": "code",
   "execution_count": null,
   "metadata": {},
   "outputs": [],
   "source": []
  }
 ],
 "metadata": {
  "kernelspec": {
   "display_name": "Python 3",
   "language": "python",
   "name": "python3"
  },
  "language_info": {
   "codemirror_mode": {
    "name": "ipython",
    "version": 3
   },
   "file_extension": ".py",
   "mimetype": "text/x-python",
   "name": "python",
   "nbconvert_exporter": "python",
   "pygments_lexer": "ipython3",
   "version": "3.7.3"
  }
 },
 "nbformat": 4,
 "nbformat_minor": 4
}
