{
 "cells": [
  {
   "cell_type": "markdown",
   "metadata": {},
   "source": [
    "# めあて： axial, coronal, sagittalをつなげよう！"
   ]
  },
  {
   "cell_type": "code",
   "execution_count": 1,
   "metadata": {},
   "outputs": [],
   "source": [
    "# 各々のdicomを読み込む\n",
    "import pydicom\n",
    "\n",
    "axial_dcm = pydicom.read_file(\"dataset/negative/axial/1.2.392.200036.9142.10002202.1020330992.3.20190507181142.96405/DicomFile.dcm\")\n",
    "# \"dataset/negative/patient_id/axial/slice_num/DicomFile.dcm\" とすることが望ましい．\n",
    "\n",
    "coronal_dcm = pydicom.read_file(\"dataset/negative/coronal/1.2.392.200036.9142.10002202.1020330992.3.20190507181141.96351/DicomFile.dcm\")\n",
    "sagittal_dcm = pydicom.read_file(\"dataset/negative/sagital/1.2.392.200036.9142.10002202.1020330992.3.20190507181142.96578/DicomFile.dcm\")"
   ]
  },
  {
   "cell_type": "code",
   "execution_count": 6,
   "metadata": {},
   "outputs": [],
   "source": [
    "# ピクセルデータを読み込む\n",
    "axial_arr = axial_dcm.pixel_array\n",
    "coronal_arr = coronal_dcm.pixel_array\n",
    "sagittal_arr = coronal_dcm.pixel_array # sagittalのサイズが長方形になっちゃってるので，coronalを仮に入れておく．ミスではない．"
   ]
  },
  {
   "cell_type": "code",
   "execution_count": 7,
   "metadata": {},
   "outputs": [
    {
     "name": "stdout",
     "output_type": "stream",
     "text": [
      "(640, 640) (640, 640) (640, 640)\n"
     ]
    }
   ],
   "source": [
    "# サイズが揃っていることを確認\n",
    "print(axial_arr.shape, coronal_arr.shape, sagittal_arr.shape)"
   ]
  },
  {
   "cell_type": "markdown",
   "metadata": {},
   "source": [
    "結合するには，numpy.concatenate(), numpy.stack(), numpy.block(), numpy.vstack(), numpy.hstack()などを使うらしい．<br> ちがいはよく分からないが...今回は縦に繋げたいので，vstack()を使う．"
   ]
  },
  {
   "cell_type": "code",
   "execution_count": 16,
   "metadata": {},
   "outputs": [
    {
     "data": {
      "text/plain": [
       "(3, 640, 640)"
      ]
     },
     "execution_count": 16,
     "metadata": {},
     "output_type": "execute_result"
    }
   ],
   "source": [
    "import numpy as np\n",
    "concat = np.stack([axial_arr, coronal_arr, sagittal_arr], 0)\n",
    "concat.shape"
   ]
  },
  {
   "cell_type": "code",
   "execution_count": null,
   "metadata": {},
   "outputs": [],
   "source": []
  },
  {
   "cell_type": "markdown",
   "metadata": {},
   "source": [
    "np.stack()を使うのが良さそう！ <br> \n",
    "np.stack([a, b, c], 何番目に軸を追加するか指定)"
   ]
  },
  {
   "cell_type": "code",
   "execution_count": 2,
   "metadata": {},
   "outputs": [],
   "source": [
    "import sklearn\n",
    "from sklearn.model_selection import KFold"
   ]
  },
  {
   "cell_type": "code",
   "execution_count": 3,
   "metadata": {},
   "outputs": [
    {
     "data": {
      "text/plain": [
       "3"
      ]
     },
     "execution_count": 3,
     "metadata": {},
     "output_type": "execute_result"
    }
   ],
   "source": [
    "paths = [\"a\", \"b\", \"c\", \"d\", \"e\"]\n",
    "kf = KFold(n_splits=3)\n",
    "kf.get_n_splits(paths)"
   ]
  },
  {
   "cell_type": "code",
   "execution_count": 5,
   "metadata": {},
   "outputs": [
    {
     "name": "stdout",
     "output_type": "stream",
     "text": [
      "[2 3 4] [0 1]\n",
      "[0 1 4] [2 3]\n",
      "[0 1 2 3] [4]\n"
     ]
    }
   ],
   "source": [
    "for train, test in kf.split(paths):\n",
    "    print(train, test)"
   ]
  },
  {
   "cell_type": "code",
   "execution_count": null,
   "metadata": {},
   "outputs": [],
   "source": []
  }
 ],
 "metadata": {
  "kernelspec": {
   "display_name": "Python 3",
   "language": "python",
   "name": "python3"
  },
  "language_info": {
   "codemirror_mode": {
    "name": "ipython",
    "version": 3
   },
   "file_extension": ".py",
   "mimetype": "text/x-python",
   "name": "python",
   "nbconvert_exporter": "python",
   "pygments_lexer": "ipython3",
   "version": "3.7.3"
  }
 },
 "nbformat": 4,
 "nbformat_minor": 4
}
