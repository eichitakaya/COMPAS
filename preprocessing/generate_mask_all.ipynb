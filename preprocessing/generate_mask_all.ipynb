{
 "cells": [
  {
   "cell_type": "code",
   "execution_count": 23,
   "metadata": {},
   "outputs": [],
   "source": [
    "import json\n",
    "import glob\n",
    "\n",
    "import cv2\n",
    "\n",
    "from PIL import Image\n",
    "\n",
    "import numpy as np\n",
    "\n",
    "# 点のペアを辞書から作成する関数\n",
    "def dict_to_points(json_path):\n",
    "    json_open = open(json_path)\n",
    "    json_load = json.load(json_open)\n",
    "    \n",
    "    x_list = []\n",
    "    y_list = []\n",
    "\n",
    "    for i in range(len(json_load[0][\"cgPoints\"])):\n",
    "        x = int(json_load[0][\"cgPoints\"][i][\"x\"])\n",
    "        y = int(json_load[0][\"cgPoints\"][i][\"y\"])\n",
    "        x_list.append(x)\n",
    "        y_list.append(y)\n",
    "\n",
    "    x_arr = np.array(x_list)\n",
    "    y_arr = np.array(y_list)\n",
    "\n",
    "    points = np.stack([x_arr, y_arr], axis=1)\n",
    "    \n",
    "    return points\n",
    "\n",
    "# 点のペアから塗りつぶし画像を作り出す関数\n",
    "def points_to_mask(points, size, save_path):\n",
    "    # 真っ黒の画像を用意\n",
    "    img = np.zeros((size, size), np.uint8)\n",
    "    # 点の集合をarrayにする\n",
    "    points = dict_to_points(json_path)\n",
    "\n",
    "    # 塗りつぶす\n",
    "    cv2.fillConvexPoly(img, points, (255, 255, 0))\n",
    "\n",
    "    cv2.imwrite(save_path + \"/mask.png\", img)\n",
    "    \n",
    "\n",
    "# 入力された画像が真っ黒かどうか調べる関数\n",
    "def check_black(img_path):\n",
    "    img = Image.open(img_path)\n",
    "    arr = np.array(img)\n",
    "    if arr.max() == 0:\n",
    "        flag = 1\n",
    "    else:\n",
    "        flag = 0\n",
    "    return flag"
   ]
  },
  {
   "cell_type": "code",
   "execution_count": 24,
   "metadata": {},
   "outputs": [],
   "source": [
    "slices = glob.glob(\"dataset/364240/sag/1.2.392.200036.9142.10002202.1020330992.2.20190905190738.28273/*\")"
   ]
  },
  {
   "cell_type": "code",
   "execution_count": 25,
   "metadata": {},
   "outputs": [],
   "source": [
    "#スライス枚数だけ繰り返す\n",
    "for slice_ in slices: \n",
    "    img_path = slice_ + \"/DicomImage.jpg\"\n",
    "    json_path = slice_ + \"/AnnotationFile.Json\"\n",
    "    save_path = slice_\n",
    "    #もしDicomImage.jpgが真っ黒じゃなかったら\n",
    "    makkuro = check_black(img_path)\n",
    "    if makkuro != True:\n",
    "        points = dict_to_points(json_path)\n",
    "        points_to_mask(points=points, size=640, save_path=save_path)"
   ]
  },
  {
   "cell_type": "code",
   "execution_count": null,
   "metadata": {},
   "outputs": [],
   "source": []
  }
 ],
 "metadata": {
  "kernelspec": {
   "display_name": "Python 3",
   "language": "python",
   "name": "python3"
  },
  "language_info": {
   "codemirror_mode": {
    "name": "ipython",
    "version": 3
   },
   "file_extension": ".py",
   "mimetype": "text/x-python",
   "name": "python",
   "nbconvert_exporter": "python",
   "pygments_lexer": "ipython3",
   "version": "3.7.3"
  }
 },
 "nbformat": 4,
 "nbformat_minor": 4
}
