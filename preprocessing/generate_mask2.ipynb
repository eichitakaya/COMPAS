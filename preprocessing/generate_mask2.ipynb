{
 "cells": [
  {
   "cell_type": "code",
   "execution_count": 88,
   "metadata": {},
   "outputs": [],
   "source": [
    "import json"
   ]
  },
  {
   "cell_type": "code",
   "execution_count": 15,
   "metadata": {},
   "outputs": [],
   "source": [
    "json_open = open(\"/harigai_workspace/dataset/364240/sag/1.2.392.200036.9142.10002202.1020330992.2.20190905190738.28273/1.2.392.200036.9142.10002202.1020330992.3.20190905190738.98880/AnnotationFile.Json\")\n",
    "\n",
    "json_load = json.load(json_open)"
   ]
  },
  {
   "cell_type": "code",
   "execution_count": 16,
   "metadata": {},
   "outputs": [
    {
     "data": {
      "text/plain": [
       "[{'cgPoints': [{'x': 324, 'y': 182.5},\n",
       "   {'x': 315.5, 'y': 177},\n",
       "   {'x': 308, 'y': 169.5},\n",
       "   {'x': 302, 'y': 161},\n",
       "   {'x': 298, 'y': 151},\n",
       "   {'x': 296.5, 'y': 141},\n",
       "   {'x': 296.5, 'y': 130.5},\n",
       "   {'x': 295.5, 'y': 120},\n",
       "   {'x': 288, 'y': 111.5},\n",
       "   {'x': 281, 'y': 103.5},\n",
       "   {'x': 273, 'y': 97},\n",
       "   {'x': 267, 'y': 88},\n",
       "   {'x': 272.5, 'y': 79},\n",
       "   {'x': 282, 'y': 74.5},\n",
       "   {'x': 291, 'y': 70},\n",
       "   {'x': 301, 'y': 67},\n",
       "   {'x': 311, 'y': 66},\n",
       "   {'x': 321.5, 'y': 66},\n",
       "   {'x': 332, 'y': 67},\n",
       "   {'x': 341.5, 'y': 71},\n",
       "   {'x': 349.5, 'y': 77.5},\n",
       "   {'x': 356.5, 'y': 85},\n",
       "   {'x': 360.5, 'y': 94.5},\n",
       "   {'x': 362, 'y': 104.5},\n",
       "   {'x': 362, 'y': 115},\n",
       "   {'x': 361, 'y': 125},\n",
       "   {'x': 357.5, 'y': 134.5},\n",
       "   {'x': 358, 'y': 145},\n",
       "   {'x': 365, 'y': 153},\n",
       "   {'x': 371, 'y': 161.5},\n",
       "   {'x': 376.5, 'y': 170},\n",
       "   {'x': 379.5, 'y': 180},\n",
       "   {'x': 379.5, 'y': 190.5},\n",
       "   {'x': 375, 'y': 199.5},\n",
       "   {'x': 370.5, 'y': 208.5},\n",
       "   {'x': 370.5, 'y': 220},\n",
       "   {'x': 371.5, 'y': 230.5},\n",
       "   {'x': 371.5, 'y': 241.5},\n",
       "   {'x': 370.5, 'y': 252},\n",
       "   {'x': 368.5, 'y': 262.5},\n",
       "   {'x': 365.5, 'y': 272.5},\n",
       "   {'x': 363, 'y': 282.5},\n",
       "   {'x': 360.5, 'y': 292.5},\n",
       "   {'x': 357.5, 'y': 302.5},\n",
       "   {'x': 354.5, 'y': 312.5},\n",
       "   {'x': 344.5, 'y': 311},\n",
       "   {'x': 341.5, 'y': 300.5},\n",
       "   {'x': 338, 'y': 291},\n",
       "   {'x': 333.5, 'y': 281},\n",
       "   {'x': 330.5, 'y': 270.5},\n",
       "   {'x': 328.5, 'y': 260.5},\n",
       "   {'x': 327.5, 'y': 250.5},\n",
       "   {'x': 329.5, 'y': 240.5},\n",
       "   {'x': 333, 'y': 230.5},\n",
       "   {'x': 337, 'y': 221},\n",
       "   {'x': 343, 'y': 212.5},\n",
       "   {'x': 343, 'y': 202},\n",
       "   {'x': 337.5, 'y': 193.5},\n",
       "   {'x': 329.5, 'y': 187}],\n",
       "  'label': 'placenta',\n",
       "  '_id': 'DICOM_App__202207041303068940',\n",
       "  'type': 'Draw',\n",
       "  'color': '#1cee13'}]"
      ]
     },
     "execution_count": 16,
     "metadata": {},
     "output_type": "execute_result"
    }
   ],
   "source": [
    "json_load"
   ]
  },
  {
   "cell_type": "code",
   "execution_count": 17,
   "metadata": {},
   "outputs": [
    {
     "data": {
      "text/plain": [
       "dict_keys(['cgPoints', 'label', '_id', 'type', 'color'])"
      ]
     },
     "execution_count": 17,
     "metadata": {},
     "output_type": "execute_result"
    }
   ],
   "source": [
    "json_load[0].keys()"
   ]
  },
  {
   "cell_type": "code",
   "execution_count": 19,
   "metadata": {},
   "outputs": [
    {
     "data": {
      "text/plain": [
       "[{'x': 324, 'y': 182.5},\n",
       " {'x': 315.5, 'y': 177},\n",
       " {'x': 308, 'y': 169.5},\n",
       " {'x': 302, 'y': 161},\n",
       " {'x': 298, 'y': 151},\n",
       " {'x': 296.5, 'y': 141},\n",
       " {'x': 296.5, 'y': 130.5},\n",
       " {'x': 295.5, 'y': 120},\n",
       " {'x': 288, 'y': 111.5},\n",
       " {'x': 281, 'y': 103.5},\n",
       " {'x': 273, 'y': 97},\n",
       " {'x': 267, 'y': 88},\n",
       " {'x': 272.5, 'y': 79},\n",
       " {'x': 282, 'y': 74.5},\n",
       " {'x': 291, 'y': 70},\n",
       " {'x': 301, 'y': 67},\n",
       " {'x': 311, 'y': 66},\n",
       " {'x': 321.5, 'y': 66},\n",
       " {'x': 332, 'y': 67},\n",
       " {'x': 341.5, 'y': 71},\n",
       " {'x': 349.5, 'y': 77.5},\n",
       " {'x': 356.5, 'y': 85},\n",
       " {'x': 360.5, 'y': 94.5},\n",
       " {'x': 362, 'y': 104.5},\n",
       " {'x': 362, 'y': 115},\n",
       " {'x': 361, 'y': 125},\n",
       " {'x': 357.5, 'y': 134.5},\n",
       " {'x': 358, 'y': 145},\n",
       " {'x': 365, 'y': 153},\n",
       " {'x': 371, 'y': 161.5},\n",
       " {'x': 376.5, 'y': 170},\n",
       " {'x': 379.5, 'y': 180},\n",
       " {'x': 379.5, 'y': 190.5},\n",
       " {'x': 375, 'y': 199.5},\n",
       " {'x': 370.5, 'y': 208.5},\n",
       " {'x': 370.5, 'y': 220},\n",
       " {'x': 371.5, 'y': 230.5},\n",
       " {'x': 371.5, 'y': 241.5},\n",
       " {'x': 370.5, 'y': 252},\n",
       " {'x': 368.5, 'y': 262.5},\n",
       " {'x': 365.5, 'y': 272.5},\n",
       " {'x': 363, 'y': 282.5},\n",
       " {'x': 360.5, 'y': 292.5},\n",
       " {'x': 357.5, 'y': 302.5},\n",
       " {'x': 354.5, 'y': 312.5},\n",
       " {'x': 344.5, 'y': 311},\n",
       " {'x': 341.5, 'y': 300.5},\n",
       " {'x': 338, 'y': 291},\n",
       " {'x': 333.5, 'y': 281},\n",
       " {'x': 330.5, 'y': 270.5},\n",
       " {'x': 328.5, 'y': 260.5},\n",
       " {'x': 327.5, 'y': 250.5},\n",
       " {'x': 329.5, 'y': 240.5},\n",
       " {'x': 333, 'y': 230.5},\n",
       " {'x': 337, 'y': 221},\n",
       " {'x': 343, 'y': 212.5},\n",
       " {'x': 343, 'y': 202},\n",
       " {'x': 337.5, 'y': 193.5},\n",
       " {'x': 329.5, 'y': 187}]"
      ]
     },
     "execution_count": 19,
     "metadata": {},
     "output_type": "execute_result"
    }
   ],
   "source": [
    "json_load[0][\"cgPoints\"]"
   ]
  },
  {
   "cell_type": "code",
   "execution_count": 20,
   "metadata": {},
   "outputs": [],
   "source": [
    "# 点のペアを辞書から作成する関数\n",
    "def dict_to_points(json_path):\n",
    "    json_open = open(json_path)\n",
    "    json_load = json.load(json_open)\n",
    "    \n",
    "    x_list = []\n",
    "    y_list = []\n",
    "\n",
    "    for i in range(len(json_load[0][\"cgPoints\"])):\n",
    "        x = int(json_load[0][\"cgPoints\"][i][\"x\"])\n",
    "        y = int(json_load[0][\"cgPoints\"][i][\"y\"])\n",
    "        x_list.append(x)\n",
    "        y_list.append(y)\n",
    "\n",
    "    x_arr = np.array(x_list)\n",
    "    y_arr = np.array(y_list)\n",
    "\n",
    "    points = np.stack([x_arr, y_arr], axis=1)\n",
    "    \n",
    "    return points"
   ]
  },
  {
   "cell_type": "code",
   "execution_count": 21,
   "metadata": {},
   "outputs": [],
   "source": [
    "import numpy as np\n",
    "import cv2"
   ]
  },
  {
   "cell_type": "code",
   "execution_count": 22,
   "metadata": {},
   "outputs": [
    {
     "data": {
      "text/plain": [
       "True"
      ]
     },
     "execution_count": 22,
     "metadata": {},
     "output_type": "execute_result"
    }
   ],
   "source": [
    "json_path = \"/harigai_workspace/dataset/364240/sag/1.2.392.200036.9142.10002202.1020330992.2.20190905190738.28273/1.2.392.200036.9142.10002202.1020330992.3.20190905190738.98880/AnnotationFile.Json\"\n",
    "\n",
    "\n",
    "# 真っ黒の画像を用意\n",
    "img = np.zeros((640, 640), np.uint8)\n",
    "# 点の集合をarrayにする\n",
    "points = dict_to_points(json_path)\n",
    "\n",
    "# 塗りつぶす\n",
    "cv2.fillConvexPoly(img, points, (255, 255, 0))\n",
    "\n",
    "cv2.imwrite(\"/harigai_workspace/dataset/mask.png\", img)"
   ]
  },
  {
   "cell_type": "code",
   "execution_count": 23,
   "metadata": {},
   "outputs": [
    {
     "data": {
      "text/plain": [
       "255"
      ]
     },
     "execution_count": 23,
     "metadata": {},
     "output_type": "execute_result"
    }
   ],
   "source": [
    "img.max()"
   ]
  },
  {
   "cell_type": "code",
   "execution_count": 29,
   "metadata": {},
   "outputs": [],
   "source": [
    "from PIL import Image\n",
    "mask = Image.fromarray(img)\n",
    "mask.save(\"mask.jpg\")"
   ]
  },
  {
   "cell_type": "code",
   "execution_count": 25,
   "metadata": {},
   "outputs": [],
   "source": [
    "import pydicom\n",
    "\n",
    "dcm = pydicom.read_file(\"/harigai_workspace/dataset/364240/sag/1.2.392.200036.9142.10002202.1020330992.2.20190905190738.28273/1.2.392.200036.9142.10002202.1020330992.3.20190905190738.98880/DicomFile.dcm\")"
   ]
  },
  {
   "cell_type": "code",
   "execution_count": 30,
   "metadata": {},
   "outputs": [],
   "source": [
    "raw = Image.fromarray(np.uint8(dcm.pixel_array))\n",
    "raw.save(\"raw.jpg\")"
   ]
  },
  {
   "cell_type": "code",
   "execution_count": 27,
   "metadata": {},
   "outputs": [],
   "source": [
    "add = img + np.uint8(dcm.pixel_array)"
   ]
  },
  {
   "cell_type": "code",
   "execution_count": null,
   "metadata": {},
   "outputs": [],
   "source": []
  }
 ],
 "metadata": {
  "kernelspec": {
   "display_name": "Python 3",
   "language": "python",
   "name": "python3"
  },
  "language_info": {
   "codemirror_mode": {
    "name": "ipython",
    "version": 3
   },
   "file_extension": ".py",
   "mimetype": "text/x-python",
   "name": "python",
   "nbconvert_exporter": "python",
   "pygments_lexer": "ipython3",
   "version": "3.7.3"
  }
 },
 "nbformat": 4,
 "nbformat_minor": 4
}
